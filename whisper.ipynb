{
  "nbformat": 4,
  "nbformat_minor": 0,
  "metadata": {
    "colab": {
      "provenance": [],
      "gpuType": "T4"
    },
    "kernelspec": {
      "name": "python3",
      "display_name": "Python 3"
    },
    "language_info": {
      "name": "python"
    },
    "accelerator": "GPU"
  },
  "cells": [
    {
      "cell_type": "code",
      "execution_count": 2,
      "metadata": {
        "id": "toaccOk5TJyk"
      },
      "outputs": [],
      "source": [
        "# !pip install git+https://github.com/openai/whisper.git"
      ]
    },
    {
      "cell_type": "code",
      "source": [
        "# !sudo apt update && sudo apt install ffmpeg"
      ],
      "metadata": {
        "id": "ubfTv_R8Zc-7"
      },
      "execution_count": 1,
      "outputs": []
    },
    {
      "cell_type": "code",
      "source": [
        "import whisper\n",
        "model = whisper.load_model(\"base\")\n",
        "result = model.transcribe(r\"Кавер.mp3\") # Вставь сюда свой .mp3"
      ],
      "metadata": {
        "id": "5I6UETA0ZotK"
      },
      "execution_count": null,
      "outputs": []
    },
    {
      "cell_type": "code",
      "source": [
        "with open('Словечки.txt', 'w') as f:\n",
        "  f.write(result[\"text\"])"
      ],
      "metadata": {
        "id": "dxUuHYnuZwwK"
      },
      "execution_count": null,
      "outputs": []
    },
    {
      "cell_type": "code",
      "source": [
        "# Открываем файл и читаем его содержимое\n",
        "with open('Словечки.txt', 'r', encoding='utf-8') as file:\n",
        "    content = file.read()\n",
        "\n",
        "# Переводим все слова в нижний регистр\n",
        "content_lower = content.lower()\n",
        "\n",
        "# Заменяем словосочетание \"ты мог\" на слово \"дымок\"\n",
        "content_processed = content_lower.replace('димок', 'дымок')\n",
        "\n",
        "# Считаем количество слова \"дымок\"\n",
        "count_dymok = content_processed.count('дымок')\n",
        "\n",
        "# Выводим результат\n",
        "print(f'Количество слова \"дымок\": {count_dymok}')\n"
      ],
      "metadata": {
        "colab": {
          "base_uri": "https://localhost:8080/"
        },
        "id": "U0Gf149bhmc8",
        "outputId": "8206fe44-9cf8-4a14-ba65-4a14ca47fc92"
      },
      "execution_count": null,
      "outputs": [
        {
          "output_type": "stream",
          "name": "stdout",
          "text": [
            "Количество слова \"дымок\": 17\n"
          ]
        }
      ]
    },
    {
      "cell_type": "code",
      "source": [],
      "metadata": {
        "id": "_mpzmggJc4Hx"
      },
      "execution_count": null,
      "outputs": []
    },
    {
      "cell_type": "code",
      "source": [],
      "metadata": {
        "id": "vwY3ip6zhSBP"
      },
      "execution_count": null,
      "outputs": []
    }
  ]
}